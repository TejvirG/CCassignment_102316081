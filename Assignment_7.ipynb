{
  "nbformat": 4,
  "nbformat_minor": 0,
  "metadata": {
    "colab": {
      "provenance": []
    },
    "kernelspec": {
      "name": "python3",
      "display_name": "Python 3"
    },
    "language_info": {
      "name": "python"
    }
  },
  "cells": [
    {
      "cell_type": "code",
      "execution_count": null,
      "metadata": {
        "id": "Ad3uWSEmtR5I"
      },
      "outputs": [],
      "source": [
        "import numpy as np\n",
        "import pandas as pd\n",
        "import matplotlib.pyplot as plt\n",
        "import seaborn as sns\n",
        "\n",
        "np.random.seed(102316081)\n",
        "sales_data = np.random.randint(1000, 5001, size=(12, 4))\n",
        "\n",
        "months = ['Jan', 'Feb', 'Mar', 'Apr', 'May', 'Jun', 'Jul', 'Aug', 'Sep', 'Oct', 'Nov', 'Dec']\n",
        "categories = ['Electronics', 'Clothing', 'Home & Kitchen', 'Sports']\n",
        "df = pd.DataFrame(sales_data, columns=categories, index=months)\n",
        "\n",
        "df.head()\n",
        "df.describe()\n",
        "\n",
        "total_sales_category = df.sum()\n",
        "total_sales_month = df.sum(axis=1)\n",
        "\n",
        "avg_growth = df.pct_change().mean()\n",
        "\n",
        "df['Total Sales'] = df.sum(axis=1)\n",
        "df['Growth Rate'] = df['Total Sales'].pct_change() * 100\n",
        "\n",
        "df['Clothing'] = df['Clothing'] * 0.85\n",
        "\n",
        "df.plot(y=categories, kind='line', figsize=(10, 5))\n",
        "plt.title(\"Monthly Sales Trend\")\n",
        "plt.show()\n",
        "\n",
        "plt.figure(figsize=(10, 6))\n",
        "sns.boxplot(data=df[categories])\n",
        "plt.title(\"Sales Distribution by Category\")\n",
        "plt.show()\n"
      ]
    },
    {
      "cell_type": "code",
      "source": [
        "import numpy as np\n",
        "\n",
        "array = np.array([[1, -2, 3], [-4, 5, -6]])\n",
        "abs_array = np.abs(array)\n",
        "\n",
        "flattened = array.flatten()\n",
        "percentiles_flat = np.percentile(flattened, [25, 50, 75])\n",
        "percentiles_cols = np.percentile(array, [25, 50, 75], axis=0)\n",
        "percentiles_rows = np.percentile(array, [25, 50, 75], axis=1)\n",
        "\n",
        "mean_flat = np.mean(flattened)\n",
        "median_flat = np.median(flattened)\n",
        "std_flat = np.std(flattened)\n",
        "\n",
        "mean_cols = np.mean(array, axis=0)\n",
        "median_cols = np.median(array, axis=0)\n",
        "std_cols = np.std(array, axis=0)\n",
        "\n",
        "mean_rows = np.mean(array, axis=1)\n",
        "median_rows = np.median(array, axis=1)\n",
        "std_rows = np.std(array, axis=1)\n",
        "\n",
        "print(abs_array)\n",
        "print(percentiles_flat)\n",
        "print(percentiles_cols)\n",
        "print(percentiles_rows)\n",
        "print(mean_flat, median_flat, std_flat)\n",
        "print(mean_cols, median_cols, std_cols)\n",
        "print(mean_rows, median_rows, std_rows)\n"
      ],
      "metadata": {
        "id": "OlaPnZDQt3NY"
      },
      "execution_count": null,
      "outputs": []
    },
    {
      "cell_type": "code",
      "source": [
        "import numpy as np\n",
        "\n",
        "a = np.array([-1.8, -1.6, -0.5, 0.5, 1.6, 1.8, 3.0])\n",
        "floor_vals = np.floor(a)\n",
        "ceil_vals = np.ceil(a)\n",
        "trunc_vals = np.trunc(a)\n",
        "round_vals = np.round(a)\n",
        "\n",
        "print(floor_vals)\n",
        "print(ceil_vals)\n",
        "print(trunc_vals)\n",
        "print(round_vals)\n"
      ],
      "metadata": {
        "id": "Ag_eWd9It9GR"
      },
      "execution_count": null,
      "outputs": []
    },
    {
      "cell_type": "code",
      "source": [
        "lst = [10, 20, 30, 40]\n",
        "temp = lst[1]\n",
        "lst[1] = lst[3]\n",
        "lst[3] = temp\n",
        "print(lst)\n"
      ],
      "metadata": {
        "id": "Ts_i5lOauAb9"
      },
      "execution_count": null,
      "outputs": []
    },
    {
      "cell_type": "code",
      "source": [
        "s = {1, 2, 3, 4}\n",
        "l = list(s)\n",
        "l[0], l[2] = l[2], l[0]\n",
        "s = set(l)\n",
        "print(s)\n"
      ],
      "metadata": {
        "id": "G58pwyKfuDUf"
      },
      "execution_count": null,
      "outputs": []
    }
  ]
}