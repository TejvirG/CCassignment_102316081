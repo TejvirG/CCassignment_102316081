{
  "nbformat": 4,
  "nbformat_minor": 0,
  "metadata": {
    "colab": {
      "provenance": []
    },
    "kernelspec": {
      "name": "python3",
      "display_name": "Python 3"
    },
    "language_info": {
      "name": "python"
    }
  },
  "cells": [
    {
      "cell_type": "code",
      "execution_count": null,
      "metadata": {
        "id": "6idXgtrXvTG6"
      },
      "outputs": [],
      "source": [
        "from sklearn.datasets import load_iris\n",
        "from sklearn.linear_model import LogisticRegression\n",
        "from sklearn.model_selection import train_test_split\n",
        "from sklearn.metrics import accuracy_score, classification_report\n",
        "import numpy as np\n",
        "\n",
        "dataset = load_iris()\n",
        "features = dataset.data\n",
        "labels = dataset.target\n",
        "\n",
        "X_train_set, X_test_set, y_train_set, y_test_set = train_test_split(features, labels, test_size=0.2, random_state=1)\n",
        "\n",
        "log_model = LogisticRegression(max_iter=250)\n",
        "log_model.fit(X_train_set, y_train_set)\n",
        "\n",
        "predictions = log_model.predict(X_test_set)\n",
        "\n",
        "acc = accuracy_score(y_test_set, predictions)\n",
        "report = classification_report(y_test_set, predictions)\n",
        "\n",
        "print(\"Model Accuracy:\", acc)\n",
        "print(\"Detailed Report:\\n\", report)\n"
      ]
    }
  ]
}